{
  "nbformat": 4,
  "nbformat_minor": 0,
  "metadata": {
    "colab": {
      "name": "cutefuckingpandasfightinginmykitchenfloor.ipynb",
      "provenance": [],
      "collapsed_sections": [],
      "authorship_tag": "ABX9TyMnQl/vy3J0kI2AKDtk2XvG",
      "include_colab_link": true
    },
    "kernelspec": {
      "name": "python3",
      "display_name": "Python 3"
    },
    "language_info": {
      "name": "python"
    }
  },
  "cells": [
    {
      "cell_type": "markdown",
      "metadata": {
        "id": "view-in-github",
        "colab_type": "text"
      },
      "source": [
        "<a href=\"https://colab.research.google.com/github/Birlinha/Cutefuckingpandasfightinginmykitchenfloor/blob/main/cutefuckingpandasfightinginmykitchenfloor.ipynb\" target=\"_parent\"><img src=\"https://colab.research.google.com/assets/colab-badge.svg\" alt=\"Open In Colab\"/></a>"
      ]
    },
    {
      "cell_type": "code",
      "metadata": {
        "colab": {
          "base_uri": "https://localhost:8080/"
        },
        "id": "1xNTJM6c6_vp",
        "outputId": "66fc14fa-d04c-4539-b5e8-8b05674e01f4"
      },
      "source": [
        "!pip install pandas\n",
        "!pip install pyjanitor\n",
        "!pip install unyt"
      ],
      "execution_count": 6,
      "outputs": [
        {
          "output_type": "stream",
          "name": "stdout",
          "text": [
            "Requirement already satisfied: pandas in /usr/local/lib/python3.7/dist-packages (1.1.5)\n",
            "Requirement already satisfied: pytz>=2017.2 in /usr/local/lib/python3.7/dist-packages (from pandas) (2018.9)\n",
            "Requirement already satisfied: numpy>=1.15.4 in /usr/local/lib/python3.7/dist-packages (from pandas) (1.19.5)\n",
            "Requirement already satisfied: python-dateutil>=2.7.3 in /usr/local/lib/python3.7/dist-packages (from pandas) (2.8.2)\n",
            "Requirement already satisfied: six>=1.5 in /usr/local/lib/python3.7/dist-packages (from python-dateutil>=2.7.3->pandas) (1.15.0)\n",
            "Collecting pyjanitor\n",
            "  Downloading pyjanitor-0.21.2-py3-none-any.whl (107 kB)\n",
            "\u001b[K     |████████████████████████████████| 107 kB 5.5 MB/s \n",
            "\u001b[?25hRequirement already satisfied: natsort in /usr/local/lib/python3.7/dist-packages (from pyjanitor) (5.5.0)\n",
            "Collecting multipledispatch\n",
            "  Downloading multipledispatch-0.6.0-py3-none-any.whl (11 kB)\n",
            "Collecting pandas-flavor\n",
            "  Downloading pandas_flavor-0.2.0-py2.py3-none-any.whl (6.6 kB)\n",
            "Requirement already satisfied: scipy in /usr/local/lib/python3.7/dist-packages (from pyjanitor) (1.4.1)\n",
            "Requirement already satisfied: six in /usr/local/lib/python3.7/dist-packages (from multipledispatch->pyjanitor) (1.15.0)\n",
            "Requirement already satisfied: pandas in /usr/local/lib/python3.7/dist-packages (from pandas-flavor->pyjanitor) (1.1.5)\n",
            "Requirement already satisfied: xarray in /usr/local/lib/python3.7/dist-packages (from pandas-flavor->pyjanitor) (0.18.2)\n",
            "Requirement already satisfied: python-dateutil>=2.7.3 in /usr/local/lib/python3.7/dist-packages (from pandas->pandas-flavor->pyjanitor) (2.8.2)\n",
            "Requirement already satisfied: numpy>=1.15.4 in /usr/local/lib/python3.7/dist-packages (from pandas->pandas-flavor->pyjanitor) (1.19.5)\n",
            "Requirement already satisfied: pytz>=2017.2 in /usr/local/lib/python3.7/dist-packages (from pandas->pandas-flavor->pyjanitor) (2018.9)\n",
            "Requirement already satisfied: setuptools>=40.4 in /usr/local/lib/python3.7/dist-packages (from xarray->pandas-flavor->pyjanitor) (57.4.0)\n",
            "Installing collected packages: pandas-flavor, multipledispatch, pyjanitor\n",
            "Successfully installed multipledispatch-0.6.0 pandas-flavor-0.2.0 pyjanitor-0.21.2\n",
            "Collecting unyt\n",
            "  Downloading unyt-2.8.0-py2.py3-none-any.whl (98 kB)\n",
            "\u001b[K     |████████████████████████████████| 98 kB 3.5 MB/s \n",
            "\u001b[?25hRequirement already satisfied: sympy>=1.2 in /usr/local/lib/python3.7/dist-packages (from unyt) (1.7.1)\n",
            "Requirement already satisfied: numpy>=\"1.13.0\" in /usr/local/lib/python3.7/dist-packages (from unyt) (1.19.5)\n",
            "Requirement already satisfied: mpmath>=0.19 in /usr/local/lib/python3.7/dist-packages (from sympy>=1.2->unyt) (1.2.1)\n",
            "Installing collected packages: unyt\n",
            "Successfully installed unyt-2.8.0\n"
          ]
        }
      ]
    },
    {
      "cell_type": "code",
      "metadata": {
        "id": "x5EHMncd7QMU"
      },
      "source": [
        "# Vamos importas as bibliotecas que utilizaremos nesse notebook.\n",
        "# Pandas nos ajudará a criar, ler e manipular tabelas\n",
        "import pandas as pd\n",
        "# Numpy irá facilitar o trabalho com números, com funções úteis\n",
        "import numpy as np\n",
        "# Importaremos o PyJanitor\n",
        "import janitor.engineering"
      ],
      "execution_count": 7,
      "outputs": []
    },
    {
      "cell_type": "code",
      "metadata": {
        "id": "ZK-nrHqj7ofk"
      },
      "source": [
        "df_forms = pd.read_csv('Formulário da Professora Adelaide.csv')"
      ],
      "execution_count": 8,
      "outputs": []
    },
    {
      "cell_type": "code",
      "metadata": {
        "colab": {
          "base_uri": "https://localhost:8080/"
        },
        "id": "8pJIj5d4Yp5d",
        "outputId": "d5f2c290-6312-43e3-d063-d107f63b586a"
      },
      "source": [
        "df_forms.dtypes"
      ],
      "execution_count": 9,
      "outputs": [
        {
          "output_type": "execute_result",
          "data": {
            "text/plain": [
              "Carimbo de data/hora                                                                                                   object\n",
              "Qual é a sua Nacionalidade?                                                                                            object\n",
              "Você entrou nessa escola recentemente?                                                                                 object\n",
              "Considerando todas as aulas que já teve com a Professora Adelaide, qual nota você daria para a qualidade das aulas?     int64\n",
              "quem respondeu?                                                                                                        object\n",
              "Qual a sua altura? (será usada para posicionamento das carteiras e assentos)                                           object\n",
              "dtype: object"
            ]
          },
          "metadata": {},
          "execution_count": 9
        }
      ]
    },
    {
      "cell_type": "markdown",
      "metadata": {
        "id": "PZPvndzm9OT6"
      },
      "source": [
        ""
      ]
    },
    {
      "cell_type": "code",
      "metadata": {
        "colab": {
          "base_uri": "https://localhost:8080/"
        },
        "id": "lA-Vq--VaZfi",
        "outputId": "5773058e-af2e-4ca8-aca7-1cc90acec6a0"
      },
      "source": [
        "df_forms.info()"
      ],
      "execution_count": 10,
      "outputs": [
        {
          "output_type": "stream",
          "name": "stdout",
          "text": [
            "<class 'pandas.core.frame.DataFrame'>\n",
            "RangeIndex: 30 entries, 0 to 29\n",
            "Data columns (total 6 columns):\n",
            " #   Column                                                                                                               Non-Null Count  Dtype \n",
            "---  ------                                                                                                               --------------  ----- \n",
            " 0   Carimbo de data/hora                                                                                                 30 non-null     object\n",
            " 1   Qual é a sua Nacionalidade?                                                                                          30 non-null     object\n",
            " 2   Você entrou nessa escola recentemente?                                                                               30 non-null     object\n",
            " 3   Considerando todas as aulas que já teve com a Professora Adelaide, qual nota você daria para a qualidade das aulas?  30 non-null     int64 \n",
            " 4   quem respondeu?                                                                                                      9 non-null      object\n",
            " 5   Qual a sua altura? (será usada para posicionamento das carteiras e assentos)                                         30 non-null     object\n",
            "dtypes: int64(1), object(5)\n",
            "memory usage: 1.5+ KB\n"
          ]
        }
      ]
    },
    {
      "cell_type": "code",
      "metadata": {
        "id": "Brxq21ILc9Ps",
        "colab": {
          "base_uri": "https://localhost:8080/"
        },
        "outputId": "c232e899-8fcb-47f7-97ba-be603fe37ba6"
      },
      "source": [
        "df_forms[\"Qual a sua altura? (será usada para posicionamento das carteiras e assentos)\"]"
      ],
      "execution_count": 11,
      "outputs": [
        {
          "output_type": "execute_result",
          "data": {
            "text/plain": [
              "0     1,73m\n",
              "1     1,63m\n",
              "2     1,68m\n",
              "3     1,50m\n",
              "4     1,48m\n",
              "5     190cm\n",
              "6     1,40m\n",
              "7     1,68m\n",
              "8     4.8ft\n",
              "9     146cm\n",
              "10       2m\n",
              "11     1,68\n",
              "12     1,70\n",
              "13    1,80m\n",
              "14     1,90\n",
              "15    1,65m\n",
              "16     1,63\n",
              "17      158\n",
              "18      5ft\n",
              "19    158cm\n",
              "20    1,75m\n",
              "21    1,80m\n",
              "22    1,48m\n",
              "23    1,68m\n",
              "24    1,58m\n",
              "25    1,46m\n",
              "26    1,60m\n",
              "27    1,65m\n",
              "28    1,64m\n",
              "29    1,47m\n",
              "Name: Qual a sua altura? (será usada para posicionamento das carteiras e assentos), dtype: object"
            ]
          },
          "metadata": {},
          "execution_count": 11
        }
      ]
    },
    {
      "cell_type": "code",
      "metadata": {
        "id": "BJYfwo5PDIvG"
      },
      "source": [
        ""
      ],
      "execution_count": 11,
      "outputs": []
    },
    {
      "cell_type": "code",
      "metadata": {
        "id": "mFhZWnfMQNyo"
      },
      "source": [
        "todos_dataframes = []\n",
        "for altura in df_forms[\"Qual a sua altura? (será usada para posicionamento das carteiras e assentos)\"].unique():\n",
        "  novo_df = df_forms[df_forms['Qual a sua altura? (será usada para posicionamento das carteiras e assentos)'].str.contains(altura)]\n",
        "  todos_dataframes.append(novo_df)"
      ],
      "execution_count": 12,
      "outputs": []
    },
    {
      "cell_type": "code",
      "metadata": {
        "colab": {
          "base_uri": "https://localhost:8080/"
        },
        "id": "gqnXOuLWLizH",
        "outputId": "1a0f52e7-51e0-440e-f10b-8de93dc3b5c5"
      },
      "source": [
        "len(todos_dataframes) == len(df_forms[\"Qual a sua altura? (será usada para posicionamento das carteiras e assentos)\"].unique())"
      ],
      "execution_count": 15,
      "outputs": [
        {
          "output_type": "execute_result",
          "data": {
            "text/plain": [
              "True"
            ]
          },
          "metadata": {},
          "execution_count": 15
        }
      ]
    },
    {
      "cell_type": "code",
      "metadata": {
        "id": "JEpX1ZmysL43"
      },
      "source": [
        "def measure_parse(text):\n",
        "  parsed_text = list(text)\n",
        "  parsed_value_text = \"\"\n",
        "  measure = \"\"\n",
        "\n",
        "  for letter in parsed_text:\n",
        "    if letter in ['0','1','2','3','4','5','6','7','8','9',',','.']:\n",
        "      if letter is ',':\n",
        "        letter = '.'\n",
        "      parsed_value_text = parsed_value_text + letter\n",
        "    else:\n",
        "      measure = measure + letter\n",
        "  \n",
        "  return parsed_value_text,measure"
      ],
      "execution_count": 67,
      "outputs": []
    },
    {
      "cell_type": "code",
      "metadata": {
        "colab": {
          "base_uri": "https://localhost:8080/"
        },
        "id": "gSwUP6ZstiQ9",
        "outputId": "af1cda09-22da-4d48-efb7-8ea9bda27e45"
      },
      "source": [
        "measure_parse(\"1,79cm\")"
      ],
      "execution_count": 68,
      "outputs": [
        {
          "output_type": "execute_result",
          "data": {
            "text/plain": [
              "('1.79', 'cm')"
            ]
          },
          "metadata": {},
          "execution_count": 68
        }
      ]
    },
    {
      "cell_type": "code",
      "metadata": {
        "colab": {
          "base_uri": "https://localhost:8080/"
        },
        "id": "ngVu6Snk2Rx4",
        "outputId": "629ff740-0bbf-4f78-be20-463e5fce7fac"
      },
      "source": [
        "todos_dataframes"
      ],
      "execution_count": 72,
      "outputs": [
        {
          "output_type": "execute_result",
          "data": {
            "text/plain": [
              "[           Carimbo de data/hora  ... Qual a sua altura? (será usada para posicionamento das carteiras e assentos)\n",
              " 0  2021/10/29 12:18:56 PM GMT-3  ...                                              1,73m                          \n",
              " \n",
              " [1 rows x 6 columns],\n",
              "            Carimbo de data/hora  ... Qual a sua altura? (será usada para posicionamento das carteiras e assentos)\n",
              " 1  2021/10/29 12:19:13 PM GMT-3  ...                                              1,63m                          \n",
              " \n",
              " [1 rows x 6 columns],\n",
              "             Carimbo de data/hora  ... Qual a sua altura? (será usada para posicionamento das carteiras e assentos)\n",
              " 2   2021/10/29 12:19:35 PM GMT-3  ...                                              1,68m                          \n",
              " 7   2021/10/29 12:21:50 PM GMT-3  ...                                              1,68m                          \n",
              " 23  2021/10/29 12:48:14 PM GMT-3  ...                                              1,68m                          \n",
              " \n",
              " [3 rows x 6 columns],\n",
              "            Carimbo de data/hora  ... Qual a sua altura? (será usada para posicionamento das carteiras e assentos)\n",
              " 3  2021/10/29 12:19:51 PM GMT-3  ...                                              1,50m                          \n",
              " \n",
              " [1 rows x 6 columns],\n",
              "             Carimbo de data/hora  ... Qual a sua altura? (será usada para posicionamento das carteiras e assentos)\n",
              " 4   2021/10/29 12:20:11 PM GMT-3  ...                                              1,48m                          \n",
              " 22  2021/10/29 12:48:02 PM GMT-3  ...                                              1,48m                          \n",
              " \n",
              " [2 rows x 6 columns],\n",
              "            Carimbo de data/hora  ... Qual a sua altura? (será usada para posicionamento das carteiras e assentos)\n",
              " 5  2021/10/29 12:20:34 PM GMT-3  ...                                              190cm                          \n",
              " \n",
              " [1 rows x 6 columns],\n",
              "            Carimbo de data/hora  ... Qual a sua altura? (será usada para posicionamento das carteiras e assentos)\n",
              " 6  2021/10/29 12:21:08 PM GMT-3  ...                                              1,40m                          \n",
              " \n",
              " [1 rows x 6 columns],\n",
              "            Carimbo de data/hora  ... Qual a sua altura? (será usada para posicionamento das carteiras e assentos)\n",
              " 8  2021/10/29 12:22:45 PM GMT-3  ...                                              4.8ft                          \n",
              " \n",
              " [1 rows x 6 columns],\n",
              "            Carimbo de data/hora  ... Qual a sua altura? (será usada para posicionamento das carteiras e assentos)\n",
              " 9  2021/10/29 12:23:06 PM GMT-3  ...                                              146cm                          \n",
              " \n",
              " [1 rows x 6 columns],\n",
              "             Carimbo de data/hora  ... Qual a sua altura? (será usada para posicionamento das carteiras e assentos)\n",
              " 10  2021/10/29 12:23:26 PM GMT-3  ...                                                 2m                          \n",
              " \n",
              " [1 rows x 6 columns],\n",
              "             Carimbo de data/hora  ... Qual a sua altura? (será usada para posicionamento das carteiras e assentos)\n",
              " 2   2021/10/29 12:19:35 PM GMT-3  ...                                              1,68m                          \n",
              " 7   2021/10/29 12:21:50 PM GMT-3  ...                                              1,68m                          \n",
              " 11  2021/10/29 12:23:52 PM GMT-3  ...                                               1,68                          \n",
              " 23  2021/10/29 12:48:14 PM GMT-3  ...                                              1,68m                          \n",
              " \n",
              " [4 rows x 6 columns],\n",
              "             Carimbo de data/hora  ... Qual a sua altura? (será usada para posicionamento das carteiras e assentos)\n",
              " 12  2021/10/29 12:24:05 PM GMT-3  ...                                               1,70                          \n",
              " \n",
              " [1 rows x 6 columns],\n",
              "             Carimbo de data/hora  ... Qual a sua altura? (será usada para posicionamento das carteiras e assentos)\n",
              " 13  2021/10/29 12:24:22 PM GMT-3  ...                                              1,80m                          \n",
              " 21  2021/10/29 12:47:46 PM GMT-3  ...                                              1,80m                          \n",
              " \n",
              " [2 rows x 6 columns],\n",
              "             Carimbo de data/hora  ... Qual a sua altura? (será usada para posicionamento das carteiras e assentos)\n",
              " 14  2021/10/29 12:24:39 PM GMT-3  ...                                               1,90                          \n",
              " \n",
              " [1 rows x 6 columns],\n",
              "             Carimbo de data/hora  ... Qual a sua altura? (será usada para posicionamento das carteiras e assentos)\n",
              " 15  2021/10/29 12:24:54 PM GMT-3  ...                                              1,65m                          \n",
              " 27  2021/10/29 12:50:49 PM GMT-3  ...                                              1,65m                          \n",
              " \n",
              " [2 rows x 6 columns],\n",
              "             Carimbo de data/hora  ... Qual a sua altura? (será usada para posicionamento das carteiras e assentos)\n",
              " 1   2021/10/29 12:19:13 PM GMT-3  ...                                              1,63m                          \n",
              " 16  2021/10/29 12:25:05 PM GMT-3  ...                                               1,63                          \n",
              " \n",
              " [2 rows x 6 columns],\n",
              "             Carimbo de data/hora  ... Qual a sua altura? (será usada para posicionamento das carteiras e assentos)\n",
              " 17  2021/10/29 12:25:37 PM GMT-3  ...                                                158                          \n",
              " 19  2021/10/29 12:26:31 PM GMT-3  ...                                              158cm                          \n",
              " \n",
              " [2 rows x 6 columns],\n",
              "             Carimbo de data/hora  ... Qual a sua altura? (será usada para posicionamento das carteiras e assentos)\n",
              " 18  2021/10/29 12:26:05 PM GMT-3  ...                                                5ft                          \n",
              " \n",
              " [1 rows x 6 columns],\n",
              "             Carimbo de data/hora  ... Qual a sua altura? (será usada para posicionamento das carteiras e assentos)\n",
              " 19  2021/10/29 12:26:31 PM GMT-3  ...                                              158cm                          \n",
              " \n",
              " [1 rows x 6 columns],\n",
              "             Carimbo de data/hora  ... Qual a sua altura? (será usada para posicionamento das carteiras e assentos)\n",
              " 20  2021/10/29 12:26:51 PM GMT-3  ...                                              1,75m                          \n",
              " \n",
              " [1 rows x 6 columns],\n",
              "             Carimbo de data/hora  ... Qual a sua altura? (será usada para posicionamento das carteiras e assentos)\n",
              " 24  2021/10/29 12:49:51 PM GMT-3  ...                                              1,58m                          \n",
              " \n",
              " [1 rows x 6 columns],\n",
              "             Carimbo de data/hora  ... Qual a sua altura? (será usada para posicionamento das carteiras e assentos)\n",
              " 25  2021/10/29 12:50:07 PM GMT-3  ...                                              1,46m                          \n",
              " \n",
              " [1 rows x 6 columns],\n",
              "             Carimbo de data/hora  ... Qual a sua altura? (será usada para posicionamento das carteiras e assentos)\n",
              " 26  2021/10/29 12:50:30 PM GMT-3  ...                                              1,60m                          \n",
              " \n",
              " [1 rows x 6 columns],\n",
              "             Carimbo de data/hora  ... Qual a sua altura? (será usada para posicionamento das carteiras e assentos)\n",
              " 28  2021/10/29 12:51:08 PM GMT-3  ...                                              1,64m                          \n",
              " \n",
              " [1 rows x 6 columns],\n",
              "             Carimbo de data/hora  ... Qual a sua altura? (será usada para posicionamento das carteiras e assentos)\n",
              " 29  2021/10/29 12:51:24 PM GMT-3  ...                                              1,47m                          \n",
              " \n",
              " [1 rows x 6 columns]]"
            ]
          },
          "metadata": {},
          "execution_count": 72
        }
      ]
    },
    {
      "cell_type": "code",
      "metadata": {
        "id": "_bvJpXirQGx_",
        "colab": {
          "base_uri": "https://localhost:8080/"
        },
        "outputId": "8b9d2566-b0b0-4f64-d3c0-597464b85ce3"
      },
      "source": [
        "for df in todos_dataframes:\n",
        "  for row_index, row in df.iterrows():\n",
        "    print(measure_parse(row[\"Qual a sua altura? (será usada para posicionamento das carteiras e assentos)\"]))"
      ],
      "execution_count": 74,
      "outputs": [
        {
          "output_type": "stream",
          "name": "stdout",
          "text": [
            "('1.73', 'm')\n",
            "('1.63', 'm')\n",
            "('1.68', 'm')\n",
            "('1.68', 'm')\n",
            "('1.68', 'm')\n",
            "('1.50', 'm')\n",
            "('1.48', 'm')\n",
            "('1.48', 'm')\n",
            "('190', 'cm')\n",
            "('1.40', 'm')\n",
            "('4.8', 'ft')\n",
            "('146', 'cm')\n",
            "('2', 'm')\n",
            "('1.68', 'm')\n",
            "('1.68', 'm')\n",
            "('1.68', '')\n",
            "('1.68', 'm')\n",
            "('1.70', '')\n",
            "('1.80', 'm')\n",
            "('1.80', 'm')\n",
            "('1.90', '')\n",
            "('1.65', 'm')\n",
            "('1.65', 'm')\n",
            "('1.63', 'm')\n",
            "('1.63', '')\n",
            "('158', '')\n",
            "('158', 'cm')\n",
            "('5', 'ft')\n",
            "('158', 'cm')\n",
            "('1.75', 'm')\n",
            "('1.58', 'm')\n",
            "('1.46', 'm')\n",
            "('1.60', 'm')\n",
            "('1.64', 'm')\n",
            "('1.47', 'm')\n"
          ]
        }
      ]
    },
    {
      "cell_type": "code",
      "metadata": {
        "colab": {
          "base_uri": "https://localhost:8080/"
        },
        "id": "uFnZU7_JnZQD",
        "outputId": "00ba41cf-96e0-486a-fe15-72f985fca82f"
      },
      "source": [
        ""
      ],
      "execution_count": 41,
      "outputs": [
        {
          "output_type": "stream",
          "name": "stdout",
          "text": [
            "<class 'str'>\n"
          ]
        }
      ]
    },
    {
      "cell_type": "code",
      "metadata": {
        "id": "SGE-WtaHoAZY"
      },
      "source": [
        ""
      ],
      "execution_count": null,
      "outputs": []
    }
  ]
}